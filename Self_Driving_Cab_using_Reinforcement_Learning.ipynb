{
  "nbformat": 4,
  "nbformat_minor": 0,
  "metadata": {
    "colab": {
      "name": "Self_Driving_Cab using Reinforcement_Learning.ipynb",
      "provenance": []
    },
    "kernelspec": {
      "name": "python3",
      "display_name": "Python 3"
    },
    "accelerator": "GPU"
  },
  "cells": [
    {
      "cell_type": "markdown",
      "metadata": {
        "id": "wfgJuPFeDpHT",
        "colab_type": "text"
      },
      "source": [
        "Design a simulation of a self-driving cab. The major goal is to demonstrate, in a simplified environment, how you can use  Reinforcement Learning techniques to develop an efficient and safe approach for tackling this problem."
      ]
    },
    {
      "cell_type": "markdown",
      "metadata": {
        "id": "35sOWp9bFUMl",
        "colab_type": "text"
      },
      "source": [
        "The Smartcab's job is to pick up the passenger at one location and drop them off in another. Here are a few things that we'd love our Smartcab to take care of:\n",
        "\n",
        "\n",
        "1.   Drop off the passenger to the right location.\n",
        "2.   Save passenger's time by taking minimum time possible to drop off.\n",
        "3.   Take care of passenger's safety and traffic rules.\n",
        "\n",
        "\n",
        "\n",
        "\n",
        "\n"
      ]
    },
    {
      "cell_type": "code",
      "metadata": {
        "id": "fjhQdA_53I8F",
        "colab_type": "code",
        "colab": {}
      },
      "source": [
        "#!pip install cmake 'gym[atari]' scipy\n",
        "#OpenAI Gym has the exact envirement already build for us "
      ],
      "execution_count": 0,
      "outputs": []
    },
    {
      "cell_type": "code",
      "metadata": {
        "id": "GdGqFaNz3OQ2",
        "colab_type": "code",
        "outputId": "aa26f2fd-979c-4df6-8ee2-05b1e83402c5",
        "colab": {
          "base_uri": "https://localhost:8080/",
          "height": 153
        }
      },
      "source": [
        "import gym\n",
        "env = gym.make(\"Taxi-v3\").env\n",
        "env.render()"
      ],
      "execution_count": 2,
      "outputs": [
        {
          "output_type": "stream",
          "text": [
            "+---------+\n",
            "|R: | : :\u001b[34;1mG\u001b[0m|\n",
            "| : | : : |\n",
            "| : : : : |\n",
            "| | : | : |\n",
            "|\u001b[35mY\u001b[0m|\u001b[43m \u001b[0m: |B: |\n",
            "+---------+\n",
            "\n"
          ],
          "name": "stdout"
        }
      ]
    },
    {
      "cell_type": "markdown",
      "metadata": {
        "id": "K8pIg5JwJN5s",
        "colab_type": "text"
      },
      "source": [
        "problem Restructured:\n",
        "\n",
        "*  \"There are 4 locations (labeled by different letters), and our job is to pick up the passenger at one location and drop him off at another. We receive +20 points for a successful drop-off and lose 1 point for every time-step it takes. There is also a 10 point penalty for illegal pick-up and drop-off actions.\"\n",
        "\n",
        "\n",
        "\n",
        "\n",
        "\n"
      ]
    },
    {
      "cell_type": "code",
      "metadata": {
        "id": "GifleqMh3SjF",
        "colab_type": "code",
        "outputId": "8565bd31-c43e-41d3-e006-3e8d69d62aca",
        "colab": {
          "base_uri": "https://localhost:8080/",
          "height": 187
        }
      },
      "source": [
        "env.reset()\n",
        "env.render()\n",
        "print(\"Action Space {}\".format(env.action_space))\n",
        "print(\"State Space  {}\".format(env.observation_space))"
      ],
      "execution_count": 3,
      "outputs": [
        {
          "output_type": "stream",
          "text": [
            "+---------+\n",
            "|R: | : :\u001b[43mG\u001b[0m|\n",
            "| : | : : |\n",
            "| : : : : |\n",
            "| | : | : |\n",
            "|\u001b[34;1mY\u001b[0m| : |\u001b[35mB\u001b[0m: |\n",
            "+---------+\n",
            "\n",
            "Action Space Discrete(6)\n",
            "State Space  Discrete(500)\n"
          ],
          "name": "stdout"
        }
      ]
    },
    {
      "cell_type": "markdown",
      "metadata": {
        "id": "WCRHWYBYtKTW",
        "colab_type": "text"
      },
      "source": [
        "The filled square represents the taxi, which is yellow without a passenger and green with a passenger.The pipe (\"|\") represents a wall which the taxi cannot cross.R, G, Y, B are the possible pickup and destination locations. The blue letter represents the current passenger pick-up location, and the purple letter is the current destination."
      ]
    },
    {
      "cell_type": "code",
      "metadata": {
        "id": "OcvGxmZDJ-Az",
        "colab_type": "code",
        "outputId": "9f4d60aa-f81b-4f27-acb6-c9a87dcc2742",
        "colab": {
          "base_uri": "https://localhost:8080/",
          "height": 170
        }
      },
      "source": [
        "# taxi row, taxi column, passenger index, destination index\n",
        "state =env.encode(3,1,2,0)\n",
        "print(\"State\", state)\n",
        "env.s=state \n",
        "env.render()"
      ],
      "execution_count": 4,
      "outputs": [
        {
          "output_type": "stream",
          "text": [
            "State 328\n",
            "+---------+\n",
            "|\u001b[35mR\u001b[0m: | : :G|\n",
            "| : | : : |\n",
            "| : : : : |\n",
            "| |\u001b[43m \u001b[0m: | : |\n",
            "|\u001b[34;1mY\u001b[0m| : |B: |\n",
            "+---------+\n",
            "\n"
          ],
          "name": "stdout"
        }
      ]
    },
    {
      "cell_type": "code",
      "metadata": {
        "id": "mQ-PnmuTv3fT",
        "colab_type": "code",
        "outputId": "7b80bfeb-c789-4988-c149-e260bc9bbe2a",
        "colab": {
          "base_uri": "https://localhost:8080/",
          "height": 119
        }
      },
      "source": [
        "env.P[state]\n",
        "#or\n",
        "#env.p[328]\n",
        "#The Output dictionary has the structure \n",
        "#{action: [(probability, nextstate, reward, done)]}"
      ],
      "execution_count": 5,
      "outputs": [
        {
          "output_type": "execute_result",
          "data": {
            "text/plain": [
              "{0: [(1.0, 428, -1, False)],\n",
              " 1: [(1.0, 228, -1, False)],\n",
              " 2: [(1.0, 348, -1, False)],\n",
              " 3: [(1.0, 328, -1, False)],\n",
              " 4: [(1.0, 328, -10, False)],\n",
              " 5: [(1.0, 328, -10, False)]}"
            ]
          },
          "metadata": {
            "tags": []
          },
          "execution_count": 5
        }
      ]
    },
    {
      "cell_type": "markdown",
      "metadata": {
        "id": "kjDMjLYI0yqU",
        "colab_type": "text"
      },
      "source": [
        "**Solving the environment without Reinforcement Learning**"
      ]
    },
    {
      "cell_type": "code",
      "metadata": {
        "id": "LfrVXGMywduS",
        "colab_type": "code",
        "outputId": "44bffbca-adf0-4ee7-c6b0-c4044ef776a9",
        "colab": {
          "base_uri": "https://localhost:8080/",
          "height": 51
        }
      },
      "source": [
        "#using an infinite loop, and based on our tanle P\n",
        "#we can try to have our taxi navigate just using that.\n",
        "#The loop runs until ne passenger reaches \n",
        "#one destination (one episode)\n",
        "from six import StringIO\n",
        "\n",
        "env.s=328\n",
        "epochs=0\n",
        "penalities, rewards=0,0\n",
        "frames=[] #for animation\n",
        "\n",
        "done =False\n",
        "\n",
        "while not done:\n",
        "  action=env.action_space.sample()\n",
        "  state, rewards, done,info=env.step(action)\n",
        "  if rewards ==-10:\n",
        "    penalities += 1\n",
        "    #Add the frame into dict animation \n",
        "    frames.append({\n",
        "        'frame':  env.render('ansi'),\n",
        "        'state' : state,\n",
        "        'action': action,\n",
        "        'reward': rewards})\n",
        "\n",
        "  \n",
        "  epochs +=1\n",
        "\n",
        "print(\"Timesteps taken : {}\" .format(epochs))\n",
        "print(\"Penalities incurred: {}\".format(penalities))\n"
      ],
      "execution_count": 6,
      "outputs": [
        {
          "output_type": "stream",
          "text": [
            "Timesteps taken : 2359\n",
            "Penalities incurred: 778\n"
          ],
          "name": "stdout"
        }
      ]
    },
    {
      "cell_type": "code",
      "metadata": {
        "id": "ytKeDStS3lzL",
        "colab_type": "code",
        "outputId": "94120c6d-c8f6-4be1-c4d3-a5586d4186d9",
        "colab": {
          "base_uri": "https://localhost:8080/",
          "height": 238
        }
      },
      "source": [
        "from IPython.display import clear_output\n",
        "from time import sleep\n",
        "def print_frames(frames):\n",
        "    for i, frame in enumerate(frames):\n",
        "        clear_output(wait=True)\n",
        "        print(frame['frame'])\n",
        "        print(f\"Timestep: {i + 1}\")\n",
        "        print(f\"State: {frame['state']}\")\n",
        "        print(f\"Action: {frame['action']}\")\n",
        "        print(f\"Reward: {frame['reward']}\")\n",
        "        sleep(.1)   \n",
        "print_frames(frames)"
      ],
      "execution_count": 7,
      "outputs": [
        {
          "output_type": "stream",
          "text": [
            "+---------+\n",
            "|\u001b[35m\u001b[42mR\u001b[0m\u001b[0m: | : :G|\n",
            "| : | : : |\n",
            "| : : : : |\n",
            "| | : | : |\n",
            "|Y| : |B: |\n",
            "+---------+\n",
            "  (Pickup)\n",
            "\n",
            "Timestep: 778\n",
            "State: 16\n",
            "Action: 4\n",
            "Reward: -10\n"
          ],
          "name": "stdout"
        }
      ]
    },
    {
      "cell_type": "markdown",
      "metadata": {
        "id": "HI34HBV8mGC8",
        "colab_type": "text"
      },
      "source": [
        "**Enter Reinforcement Learning, Q-learning Algo**"
      ]
    },
    {
      "cell_type": "code",
      "metadata": {
        "id": "_gidnC5d8PFw",
        "colab_type": "code",
        "colab": {}
      },
      "source": [
        "#STEPS:\n",
        "\n",
        "#Initialize the Q-table by all zeros.\n",
        "#Start exploring actions: For each state, select any one among all possible actions for the current state (S).\n",
        "#Travel to the next state (S') as a result of that action (a).\n",
        "#For all possible actions from the state (S') select the one with the highest Q-value.\n",
        "#Update Q-table values using the equation>>\n",
        "#Q(state,action)←(1−α)Q(state,action)+α(reward+γmaxaQ(next state,all actions))\n",
        "#Set the next state as the current state.\n",
        "#If goal state is reached, then end and repeat the process."
      ],
      "execution_count": 0,
      "outputs": []
    },
    {
      "cell_type": "code",
      "metadata": {
        "id": "6kUbP324-UlA",
        "colab_type": "code",
        "colab": {}
      },
      "source": [
        "#To avoid that the action takes always the same route, and yto prevente overfitting \n",
        "#we'll be introducing another parameter called ϵ \"epsilon\" to cater to this during training."
      ],
      "execution_count": 0,
      "outputs": []
    },
    {
      "cell_type": "code",
      "metadata": {
        "id": "BBbS0SGE-7_T",
        "colab_type": "code",
        "colab": {}
      },
      "source": [
        "import numpy as np\n",
        "q_table=np.zeros([env.observation_space.n, env.action_space.n])"
      ],
      "execution_count": 0,
      "outputs": []
    },
    {
      "cell_type": "code",
      "metadata": {
        "id": "HIBvTw1k_us8",
        "colab_type": "code",
        "colab": {
          "base_uri": "https://localhost:8080/",
          "height": 68
        },
        "outputId": "4097a1cd-9b3a-4f8f-9233-6a995ccc7ac3"
      },
      "source": [
        "#Now we create the training alogirthm to update this Q-table.\n",
        "import random\n",
        "from IPython.display import clear_output\n",
        "#hyperparameters \n",
        "alpha=0.1\n",
        "gamma=0.6\n",
        "epsilon= 0.1\n",
        "#for plots\n",
        "all_epochs=[]\n",
        "all_penalities=[]\n",
        "untrained_frames = []\n",
        "\n",
        "\n",
        "for i in range (1, 100001):\n",
        "  state=env.reset()\n",
        "  epochs,penalities, rewards=0,0,0\n",
        "  done=False\n",
        "\n",
        "  while not done :\n",
        "    if random.uniform(0,1)<epsilon:\n",
        "      #randdom sampling of an element from space\n",
        "      action =env.action_space.sample()\n",
        "    else:\n",
        "      ## Exploit learned values\n",
        "      action=np.argmax(q_table[state])\n",
        "    next_state, reward, done, info=env.step(action)\n",
        "    old_value=q_table[state, action]\n",
        "    next_max=np.max(q_table[next_state])\n",
        "    new_value=(1-alpha)*old_value+alpha*(reward+gamma*next_max)\n",
        "    q_table[state, action]=new_value\n",
        "\n",
        "    if rewards==-10:\n",
        "      penalities +=1\n",
        "    state=next_state\n",
        "    epochs+=1\n",
        "  if i%100==0:\n",
        "    clear_output(wait=True)\n",
        "    print(f\"Episode: {i}\")\n",
        "print(\"Training finished.\\n\")"
      ],
      "execution_count": 25,
      "outputs": [
        {
          "output_type": "stream",
          "text": [
            "Episode: 100000\n",
            "Training finished.\n",
            "\n"
          ],
          "name": "stdout"
        }
      ]
    },
    {
      "cell_type": "code",
      "metadata": {
        "id": "G1_ZwQ-ME505",
        "colab_type": "code",
        "colab": {
          "base_uri": "https://localhost:8080/",
          "height": 51
        },
        "outputId": "3029d3ff-9efd-4131-cccc-76615767ad17"
      },
      "source": [
        "q_table[328]"
      ],
      "execution_count": 26,
      "outputs": [
        {
          "output_type": "execute_result",
          "data": {
            "text/plain": [
              "array([ -2.41736201,  -2.27325184,  -2.41651658,  -2.36279173,\n",
              "       -11.17151532, -11.22368601])"
            ]
          },
          "metadata": {
            "tags": []
          },
          "execution_count": 26
        }
      ]
    },
    {
      "cell_type": "code",
      "metadata": {
        "id": "9eqFSXAgJCTR",
        "colab_type": "code",
        "colab": {}
      },
      "source": [
        "#after traning we see that the algorithm learned very well the next action \n",
        "#After state 328, the north is the best action for the agent, and also the algorithm \n",
        "#got the desired action to the north  with best q value (-2.27) "
      ],
      "execution_count": 0,
      "outputs": []
    },
    {
      "cell_type": "markdown",
      "metadata": {
        "id": "4aQNHyyZL3jp",
        "colab_type": "text"
      },
      "source": [
        "**Evaluation**"
      ]
    },
    {
      "cell_type": "code",
      "metadata": {
        "id": "uK4t-gqnK--O",
        "colab_type": "code",
        "colab": {
          "base_uri": "https://localhost:8080/",
          "height": 68
        },
        "outputId": "9a9e4b60-72dd-4dfc-ac66-d48e759d8725"
      },
      "source": [
        "rewardss = []\n",
        "total_epochs, total_penalities=0,0\n",
        "episodes=100\n",
        "for _ in range (episodes):\n",
        "  episode_rewards = []\n",
        "  state=env.reset()\n",
        "  epochs, penalities, rewards=0,0,0\n",
        "  done=False\n",
        "  while not done:\n",
        "    action=np.argmax(q_table[state])\n",
        "    state, rewards, done, info=env.step(action)\n",
        "    episode_rewards.append(rewards)\n",
        "    if reward==-10:\n",
        "      penalities+=-1\n",
        "    epochs+=1\n",
        "  total_penalities+=penalities\n",
        "  total_epochs+=epochs\n",
        "  rewardss.append(np.mean(episode_rewards))\n",
        "print(f\"Results after {episodes}:\")\n",
        "print(f\"Average timesteps per episode: {total_epochs / episodes}\")\n",
        "print(f\"Average penalties per episode: {total_penalities / episodes}\")\n",
        "env.close()"
      ],
      "execution_count": 42,
      "outputs": [
        {
          "output_type": "stream",
          "text": [
            "Results after 100:\n",
            "Average timesteps per episode: 13.02\n",
            "Average penalties per episode: 0.0\n"
          ],
          "name": "stdout"
        }
      ]
    },
    {
      "cell_type": "code",
      "metadata": {
        "id": "DObUaUdiNNeg",
        "colab_type": "code",
        "colab": {
          "base_uri": "https://localhost:8080/",
          "height": 295
        },
        "outputId": "1c4a34ab-ba1e-41b5-b53c-8f89622b53ea"
      },
      "source": [
        "import matplotlib.pyplot as plt\n",
        "plt.plot(rewardss)\n",
        "plt.title(\"Test reward per episode\")\n",
        "plt.ylim((0, 3.5))\n",
        "plt.xlabel('Episode');\n",
        "plt.ylabel('Total Reward');"
      ],
      "execution_count": 51,
      "outputs": [
        {
          "output_type": "display_data",
          "data": {
            "image/png": "[encoded data removed]",
            "text/plain": [
              "<Figure size 432x288 with 1 Axes>"
            ]
          },
          "metadata": {
            "tags": []
          }
        }
      ]
    },
    {
      "cell_type": "code",
      "metadata": {
        "id": "SVd6FxcPNaT1",
        "colab_type": "code",
        "colab": {}
      },
      "source": [
        ""
      ],
      "execution_count": 0,
      "outputs": []
    }
  ]
}